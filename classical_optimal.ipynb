{
 "cells": [
  {
   "cell_type": "code",
   "execution_count": 1,
   "metadata": {
    "metadata": {}
   },
   "outputs": [],
   "source": [
    "import os\n",
    "import numpy as np\n",
    "from quantum_model import Quantum_Strategy"
   ]
  },
  {
   "cell_type": "code",
   "execution_count": 54,
   "metadata": {
    "metadata": {}
   },
   "outputs": [],
   "source": [
    "n = 100\n",
    "test_size = 1000\n",
    "qs = Quantum_Strategy(n)\n",
    "data = np.load(f\"./data/data_{n}.npz\")\n",
    "x_train = data['X']; y_train = data['Y']\n",
    "x = np.random.randint(0, 2, (test_size, x_train.shape[1]))"
   ]
  },
  {
   "cell_type": "code",
   "execution_count": 55,
   "metadata": {
    "metadata": {}
   },
   "outputs": [],
   "source": [
    "def encoder(x):\n",
    "    length = x.shape[0]\n",
    "    x = x.reshape(length, -1, 2)\n",
    "    x = np.sum(x * (2 ** np.arange(x.shape[-1])[::-1]).reshape(1, 1, -1), axis=-1)\n",
    "    x = x.reshape(length, 2, -1)\n",
    "    return x"
   ]
  },
  {
   "cell_type": "code",
   "execution_count": 58,
   "metadata": {
    "metadata": {}
   },
   "outputs": [],
   "source": [
    "def decoder_base(x):\n",
    "    x1 = x[0]; x2 = x[1]\n",
    "    y1 = []\n",
    "    y2 = []\n",
    "    for i in range(len(x1)):\n",
    "        if x1[i] == 0 or x2[i] == 0:\n",
    "            y1.append(np.array([0, 0]))\n",
    "            y2.append(np.array([0, 0]))\n",
    "            continue\n",
    "        x1[i] = x1[i] - 1\n",
    "        x2[i] = x2[i] - 1\n",
    "        y_1 = np.zeros(3, dtype=np.int32)\n",
    "        y_2 = np.zeros(3, dtype=np.int32)\n",
    "        y_1[2] = 1\n",
    "        y_2[x1[i]] = y_1[x2[i]]\n",
    "        if x1[i] == 2:\n",
    "            y_2[1] = ((y_2[0] + y_2[2])) % 2\n",
    "        y1.append(y_1[:2])\n",
    "        y2.append(y_2[:2])\n",
    "    y1 = np.array(y1).flatten()\n",
    "    y2 = np.array(y2).flatten()\n",
    "    return np.concatenate([y1, y2])\n",
    "\n",
    "def decoder(x):\n",
    "    y = []\n",
    "    for i in range(x.shape[0]):\n",
    "        y.append(decoder_base(x[i]))\n",
    "    return np.array(y)"
   ]
  },
  {
   "cell_type": "code",
   "execution_count": 59,
   "metadata": {
    "metadata": {}
   },
   "outputs": [
    {
     "data": {
      "text/plain": [
       "1.0"
      ]
     },
     "execution_count": 59,
     "metadata": {},
     "output_type": "execute_result"
    }
   ],
   "source": [
    "np.mean(qs.check_input_output(x_train, decoder(encoder(x_train)), flatten=False))"
   ]
  },
  {
   "cell_type": "code",
   "execution_count": null,
   "metadata": {},
   "outputs": [],
   "source": []
  }
 ],
 "metadata": {
  "kernelspec": {
   "display_name": "base",
   "language": "python",
   "name": "python3"
  },
  "language_info": {
   "codemirror_mode": {
    "name": "ipython",
    "version": 3
   },
   "file_extension": ".py",
   "mimetype": "text/x-python",
   "name": "python",
   "nbconvert_exporter": "python",
   "pygments_lexer": "ipython3",
   "version": "3.9.12"
  }
 },
 "nbformat": 4,
 "nbformat_minor": 2
}
